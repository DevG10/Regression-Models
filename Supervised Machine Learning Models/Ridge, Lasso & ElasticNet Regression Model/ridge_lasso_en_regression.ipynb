{
 "cells": [
  {
   "cell_type": "code",
   "execution_count": 1,
   "metadata": {},
   "outputs": [],
   "source": [
    "#Importing the necessary libraries\n",
    "import numpy as np\n",
    "import pandas as pd\n",
    "import matplotlib.pyplot as plt\n",
    "import seaborn as sns\n",
    "from sklearn.datasets import make_regression"
   ]
  },
  {
   "cell_type": "code",
   "execution_count": 2,
   "metadata": {},
   "outputs": [],
   "source": [
    "X, y = make_regression(n_features = 2, n_targets = 1, noise=50, random_state = 10, n_samples=500)"
   ]
  },
  {
   "cell_type": "code",
   "execution_count": 3,
   "metadata": {},
   "outputs": [
    {
     "data": {
      "text/plain": [
       "(500, 2)"
      ]
     },
     "execution_count": 3,
     "metadata": {},
     "output_type": "execute_result"
    }
   ],
   "source": [
    "X.shape"
   ]
  },
  {
   "cell_type": "code",
   "execution_count": 4,
   "metadata": {},
   "outputs": [
    {
     "data": {
      "text/plain": [
       "(500,)"
      ]
     },
     "execution_count": 4,
     "metadata": {},
     "output_type": "execute_result"
    }
   ],
   "source": [
    "y.shape"
   ]
  },
  {
   "cell_type": "code",
   "execution_count": 5,
   "metadata": {},
   "outputs": [],
   "source": [
    "df = pd.concat([pd.DataFrame(X[0], columns=['X']), pd.DataFrame(y, columns=['Y'])])"
   ]
  },
  {
   "cell_type": "code",
   "execution_count": 6,
   "metadata": {},
   "outputs": [
    {
     "data": {
      "text/html": [
       "<div>\n",
       "<style scoped>\n",
       "    .dataframe tbody tr th:only-of-type {\n",
       "        vertical-align: middle;\n",
       "    }\n",
       "\n",
       "    .dataframe tbody tr th {\n",
       "        vertical-align: top;\n",
       "    }\n",
       "\n",
       "    .dataframe thead th {\n",
       "        text-align: right;\n",
       "    }\n",
       "</style>\n",
       "<table border=\"1\" class=\"dataframe\">\n",
       "  <thead>\n",
       "    <tr style=\"text-align: right;\">\n",
       "      <th></th>\n",
       "      <th>X</th>\n",
       "      <th>Y</th>\n",
       "    </tr>\n",
       "  </thead>\n",
       "  <tbody>\n",
       "    <tr>\n",
       "      <th>0</th>\n",
       "      <td>0.148961</td>\n",
       "      <td>NaN</td>\n",
       "    </tr>\n",
       "    <tr>\n",
       "      <th>1</th>\n",
       "      <td>0.315111</td>\n",
       "      <td>NaN</td>\n",
       "    </tr>\n",
       "    <tr>\n",
       "      <th>0</th>\n",
       "      <td>NaN</td>\n",
       "      <td>17.851082</td>\n",
       "    </tr>\n",
       "    <tr>\n",
       "      <th>1</th>\n",
       "      <td>NaN</td>\n",
       "      <td>-144.298593</td>\n",
       "    </tr>\n",
       "    <tr>\n",
       "      <th>2</th>\n",
       "      <td>NaN</td>\n",
       "      <td>-16.486881</td>\n",
       "    </tr>\n",
       "  </tbody>\n",
       "</table>\n",
       "</div>"
      ],
      "text/plain": [
       "          X           Y\n",
       "0  0.148961         NaN\n",
       "1  0.315111         NaN\n",
       "0       NaN   17.851082\n",
       "1       NaN -144.298593\n",
       "2       NaN  -16.486881"
      ]
     },
     "execution_count": 6,
     "metadata": {},
     "output_type": "execute_result"
    }
   ],
   "source": [
    "df.head()"
   ]
  },
  {
   "cell_type": "code",
   "execution_count": 7,
   "metadata": {},
   "outputs": [
    {
     "data": {
      "text/plain": [
       "X    500\n",
       "Y      2\n",
       "dtype: int64"
      ]
     },
     "execution_count": 7,
     "metadata": {},
     "output_type": "execute_result"
    }
   ],
   "source": [
    "# As there are NULL values in our dataset so we will clear them out\n",
    "\n",
    "df.isna().sum()"
   ]
  },
  {
   "cell_type": "code",
   "execution_count": 8,
   "metadata": {},
   "outputs": [],
   "source": [
    "df['X'] = df['X'].fillna(df['X'].mean())\n",
    "df['Y'] = df['Y'].fillna(df['Y'].mean())"
   ]
  },
  {
   "cell_type": "code",
   "execution_count": 9,
   "metadata": {},
   "outputs": [
    {
     "data": {
      "text/plain": [
       "(X    0\n",
       " Y    0\n",
       " dtype: int64,\n",
       "           X           Y\n",
       " 0  0.148961   -0.627048\n",
       " 1  0.315111   -0.627048\n",
       " 0  0.232036   17.851082\n",
       " 1  0.232036 -144.298593\n",
       " 2  0.232036  -16.486881)"
      ]
     },
     "execution_count": 9,
     "metadata": {},
     "output_type": "execute_result"
    }
   ],
   "source": [
    "# Now our data is NULL free\n",
    "df.isna().sum(), df.head()"
   ]
  },
  {
   "cell_type": "code",
   "execution_count": 10,
   "metadata": {},
   "outputs": [
    {
     "data": {
      "text/plain": [
       "0"
      ]
     },
     "execution_count": 10,
     "metadata": {},
     "output_type": "execute_result"
    }
   ],
   "source": [
    "# As well as duplicates free\n",
    "df.duplicated().sum()"
   ]
  },
  {
   "cell_type": "code",
   "execution_count": 11,
   "metadata": {},
   "outputs": [],
   "source": [
    "# Splitting the dataset into Train & Test Data for model learning\n",
    "\n",
    "from sklearn.model_selection import train_test_split\n",
    "X_train, X_test, y_train, y_test = train_test_split(X, y, random_state = 10, test_size = 20)"
   ]
  },
  {
   "cell_type": "code",
   "execution_count": 12,
   "metadata": {},
   "outputs": [
    {
     "name": "stdout",
     "output_type": "stream",
     "text": [
      "The size of X_train is: (480, 2), the size of X_test is: (20, 2), the size of y_train is:(480,), the size of y_test is:(20,)\n"
     ]
    }
   ],
   "source": [
    "print(f'The size of X_train is: {X_train.shape}, the size of X_test is: {X_test.shape}, the size of y_train is:{y_train.shape}, the size of y_test is:{y_test.shape}')"
   ]
  },
  {
   "cell_type": "code",
   "execution_count": 14,
   "metadata": {},
   "outputs": [
    {
     "data": {
      "text/html": [
       "<style>#sk-container-id-1 {color: black;}#sk-container-id-1 pre{padding: 0;}#sk-container-id-1 div.sk-toggleable {background-color: white;}#sk-container-id-1 label.sk-toggleable__label {cursor: pointer;display: block;width: 100%;margin-bottom: 0;padding: 0.3em;box-sizing: border-box;text-align: center;}#sk-container-id-1 label.sk-toggleable__label-arrow:before {content: \"▸\";float: left;margin-right: 0.25em;color: #696969;}#sk-container-id-1 label.sk-toggleable__label-arrow:hover:before {color: black;}#sk-container-id-1 div.sk-estimator:hover label.sk-toggleable__label-arrow:before {color: black;}#sk-container-id-1 div.sk-toggleable__content {max-height: 0;max-width: 0;overflow: hidden;text-align: left;background-color: #f0f8ff;}#sk-container-id-1 div.sk-toggleable__content pre {margin: 0.2em;color: black;border-radius: 0.25em;background-color: #f0f8ff;}#sk-container-id-1 input.sk-toggleable__control:checked~div.sk-toggleable__content {max-height: 200px;max-width: 100%;overflow: auto;}#sk-container-id-1 input.sk-toggleable__control:checked~label.sk-toggleable__label-arrow:before {content: \"▾\";}#sk-container-id-1 div.sk-estimator input.sk-toggleable__control:checked~label.sk-toggleable__label {background-color: #d4ebff;}#sk-container-id-1 div.sk-label input.sk-toggleable__control:checked~label.sk-toggleable__label {background-color: #d4ebff;}#sk-container-id-1 input.sk-hidden--visually {border: 0;clip: rect(1px 1px 1px 1px);clip: rect(1px, 1px, 1px, 1px);height: 1px;margin: -1px;overflow: hidden;padding: 0;position: absolute;width: 1px;}#sk-container-id-1 div.sk-estimator {font-family: monospace;background-color: #f0f8ff;border: 1px dotted black;border-radius: 0.25em;box-sizing: border-box;margin-bottom: 0.5em;}#sk-container-id-1 div.sk-estimator:hover {background-color: #d4ebff;}#sk-container-id-1 div.sk-parallel-item::after {content: \"\";width: 100%;border-bottom: 1px solid gray;flex-grow: 1;}#sk-container-id-1 div.sk-label:hover label.sk-toggleable__label {background-color: #d4ebff;}#sk-container-id-1 div.sk-serial::before {content: \"\";position: absolute;border-left: 1px solid gray;box-sizing: border-box;top: 0;bottom: 0;left: 50%;z-index: 0;}#sk-container-id-1 div.sk-serial {display: flex;flex-direction: column;align-items: center;background-color: white;padding-right: 0.2em;padding-left: 0.2em;position: relative;}#sk-container-id-1 div.sk-item {position: relative;z-index: 1;}#sk-container-id-1 div.sk-parallel {display: flex;align-items: stretch;justify-content: center;background-color: white;position: relative;}#sk-container-id-1 div.sk-item::before, #sk-container-id-1 div.sk-parallel-item::before {content: \"\";position: absolute;border-left: 1px solid gray;box-sizing: border-box;top: 0;bottom: 0;left: 50%;z-index: -1;}#sk-container-id-1 div.sk-parallel-item {display: flex;flex-direction: column;z-index: 1;position: relative;background-color: white;}#sk-container-id-1 div.sk-parallel-item:first-child::after {align-self: flex-end;width: 50%;}#sk-container-id-1 div.sk-parallel-item:last-child::after {align-self: flex-start;width: 50%;}#sk-container-id-1 div.sk-parallel-item:only-child::after {width: 0;}#sk-container-id-1 div.sk-dashed-wrapped {border: 1px dashed gray;margin: 0 0.4em 0.5em 0.4em;box-sizing: border-box;padding-bottom: 0.4em;background-color: white;}#sk-container-id-1 div.sk-label label {font-family: monospace;font-weight: bold;display: inline-block;line-height: 1.2em;}#sk-container-id-1 div.sk-label-container {text-align: center;}#sk-container-id-1 div.sk-container {/* jupyter's `normalize.less` sets `[hidden] { display: none; }` but bootstrap.min.css set `[hidden] { display: none !important; }` so we also need the `!important` here to be able to override the default hidden behavior on the sphinx rendered scikit-learn.org. See: https://github.com/scikit-learn/scikit-learn/issues/21755 */display: inline-block !important;position: relative;}#sk-container-id-1 div.sk-text-repr-fallback {display: none;}</style><div id=\"sk-container-id-1\" class=\"sk-top-container\"><div class=\"sk-text-repr-fallback\"><pre>ElasticNet()</pre><b>In a Jupyter environment, please rerun this cell to show the HTML representation or trust the notebook. <br />On GitHub, the HTML representation is unable to render, please try loading this page with nbviewer.org.</b></div><div class=\"sk-container\" hidden><div class=\"sk-item\"><div class=\"sk-estimator sk-toggleable\"><input class=\"sk-toggleable__control sk-hidden--visually\" id=\"sk-estimator-id-1\" type=\"checkbox\" checked><label for=\"sk-estimator-id-1\" class=\"sk-toggleable__label sk-toggleable__label-arrow\">ElasticNet</label><div class=\"sk-toggleable__content\"><pre>ElasticNet()</pre></div></div></div></div></div>"
      ],
      "text/plain": [
       "ElasticNet()"
      ]
     },
     "execution_count": 14,
     "metadata": {},
     "output_type": "execute_result"
    }
   ],
   "source": [
    "# Directly using and training Model with default parameters\n",
    "\n",
    "from sklearn.linear_model import Ridge, Lasso, ElasticNet\n",
    "\n",
    "ridge_regressor = Ridge()\n",
    "lasso_regressor = Lasso()\n",
    "elastic_regressor = ElasticNet()\n",
    "\n",
    "ridge_regressor.fit(X_train, y_train)\n",
    "lasso_regressor.fit(X_train, y_train)\n",
    "elastic_regressor.fit(X_train, y_train)"
   ]
  },
  {
   "cell_type": "code",
   "execution_count": 16,
   "metadata": {},
   "outputs": [],
   "source": [
    "# Predicting the values\n",
    "ridge_predictions = ridge_regressor.predict(X_test)\n",
    "lasso_predictions = lasso_regressor.predict(X_test)\n",
    "elastic_predictions = elastic_regressor.predict(X_test)"
   ]
  },
  {
   "cell_type": "code",
   "execution_count": 17,
   "metadata": {},
   "outputs": [
    {
     "name": "stdout",
     "output_type": "stream",
     "text": [
      "Ridge Regression Mean Squared Error: 2050.0716366708893\n",
      "Lasso Regression Mean Squared Error: 2040.9976319397592\n",
      "ElasticNet Regression Mean Squared Error: 2413.9497837108333\n",
      "Ridge Regression R^2 Score: 0.6825051893373769\n",
      "Lasso Regression R^2 Score: 0.6839104814074337\n",
      "ElasticNet Regression R^2 Score: 0.6261513423145864\n"
     ]
    }
   ],
   "source": [
    "# Calculating the score of the different models using mean sqaured and r2 score with default parameters\n",
    "\n",
    "from sklearn.metrics import mean_squared_error, r2_score\n",
    "\n",
    "ridge_mse = mean_squared_error(y_test, ridge_predictions)\n",
    "lasso_mse = mean_squared_error(y_test, lasso_predictions)\n",
    "elastic_mse = mean_squared_error(y_test, elastic_predictions)\n",
    "\n",
    "print(\"Ridge Regression Mean Squared Error:\", ridge_mse)\n",
    "print(\"Lasso Regression Mean Squared Error:\", lasso_mse)\n",
    "print(\"ElasticNet Regression Mean Squared Error:\", elastic_mse)\n",
    "\n",
    "\n",
    "ridge_r2 = r2_score(y_test, ridge_predictions)\n",
    "lasso_r2 = r2_score(y_test, lasso_predictions)\n",
    "elastic_r2 = r2_score(y_test, elastic_predictions)\n",
    "\n",
    "\n",
    "print(\"Ridge Regression R^2 Score:\", ridge_r2)\n",
    "print(\"Lasso Regression R^2 Score:\", lasso_r2)\n",
    "print(\"ElasticNet Regression R^2 Score:\", elastic_r2)"
   ]
  },
  {
   "cell_type": "markdown",
   "metadata": {},
   "source": [
    "#### Best Parameters for Ridge Regression"
   ]
  },
  {
   "cell_type": "code",
   "execution_count": 19,
   "metadata": {},
   "outputs": [
    {
     "name": "stdout",
     "output_type": "stream",
     "text": [
      "Ridge Regression Mean Squared Error with best parameters: 2050.0716366708893\n",
      "Ridge Regression R^2 Score with best parameters: 0.6825051893373769\n"
     ]
    }
   ],
   "source": [
    "# Using Grid Search CV to find the best parameters for Ridge\n",
    " \n",
    "import warnings\n",
    "warnings.filterwarnings('ignore')\n",
    "from sklearn.model_selection import GridSearchCV\n",
    "\n",
    "best_parameters_ridge = {\n",
    "    'alpha': list(np.arange(1 , 101)),\n",
    "    'solver': ['auto', 'svd', 'chloesky', 'lsqr', 'sag', 'saga']\n",
    "}\n",
    "\n",
    "# Create a GridSearchCV object\n",
    "best_ridge_reg = GridSearchCV(ridge_regressor, param_grid=best_parameters_ridge, cv=5, scoring='accuracy')\n",
    "\n",
    "# Fit the GridSearchCV object to your data\n",
    "best_ridge_reg.fit(X_train, y_train)\n",
    "\n",
    "y_pred_ridge = best_ridge_reg.best_estimator_.predict(X_test)\n",
    "\n",
    "# Checking Accuracy\n",
    "best_ridge_mse = mean_squared_error(y_test, y_pred_ridge)\n",
    "print(\"Ridge Regression Mean Squared Error with best parameters:\", best_ridge_mse)\n",
    "\n",
    "best_ridge_r2 = r2_score(y_test, y_pred_ridge)\n",
    "print(\"Ridge Regression R^2 Score with best parameters:\", best_ridge_r2)\n"
   ]
  },
  {
   "cell_type": "code",
   "execution_count": 23,
   "metadata": {},
   "outputs": [
    {
     "name": "stdout",
     "output_type": "stream",
     "text": [
      "Elastic Net Regression Mean Squared Error with best parameters: 3006.2692590321217\n",
      "Elastic Net Regression R^2 Score with best parameters: 0.5344187626793182\n"
     ]
    }
   ],
   "source": [
    "# Using Grid Search CV to find the best parameters for Lasso\n",
    " \n",
    "best_parameters_elasticnet = {\n",
    "    'alpha': list(np.arange(1 , 101)),\n",
    "    'l1_ratio' : list(np.arange(0.1, 100.0))\n",
    "}\n",
    "\n",
    "# Create a GridSearchCV object\n",
    "best_elasticnet_reg = GridSearchCV(elastic_regressor, param_grid=best_parameters_elasticnet, cv=5, scoring='accuracy')\n",
    "\n",
    "# Fit the GridSearchCV object to your data\n",
    "best_elasticnet_reg.fit(X_train, y_train)\n",
    "\n",
    "y_pred_elasticnet = best_elasticnet_reg.best_estimator_.predict(X_test)\n",
    "\n",
    "# Checking Accuracy\n",
    "best_elasticnet_mse = mean_squared_error(y_test, y_pred_elasticnet)\n",
    "print(\"Elastic Net Regression Mean Squared Error with best parameters:\", best_elasticnet_mse)\n",
    "\n",
    "best_ridge_r2 = r2_score(y_test, y_pred_elasticnet)\n",
    "print(\"Elastic Net Regression R^2 Score with best parameters:\", best_ridge_r2)"
   ]
  }
 ],
 "metadata": {
  "kernelspec": {
   "display_name": "Python 3",
   "language": "python",
   "name": "python3"
  },
  "language_info": {
   "codemirror_mode": {
    "name": "ipython",
    "version": 3
   },
   "file_extension": ".py",
   "mimetype": "text/x-python",
   "name": "python",
   "nbconvert_exporter": "python",
   "pygments_lexer": "ipython3",
   "version": "3.11.3"
  }
 },
 "nbformat": 4,
 "nbformat_minor": 2
}
